{
 "cells": [
  {
   "cell_type": "markdown",
   "metadata": {},
   "source": [
    "# Analysing Isca output on Anthropocene\n",
    "\n",
    "This is a guide to analysing the output of Isca simulations using Python and the [Jupyter](https://jupyter.org) Notebook interface on the Geography server Anthropocene.\n",
    "\n",
    "Please **do not use the Blue Crystal login node for data analysis**. This has to deal with a large number of users, and is only meant for very basic operations like editing text files and submitting jobs. \n",
    "\n",
    "## Copying data from Anthropocene\n",
    "\n",
    "We will follow an example of analysing some Isca-Mars with SOCRATES output. We will begin by copying some data over from Blue Crystal. First log in to Anthropocene:\n",
    "\n",
    "```{bash}\n",
    "localhost$ ssh -Y username@anthropocene.ggy.bris.ac.uk\n",
    "```\n",
    "\n",
    "(in this guide the name before the $ shows the system on which a given command is to be executed - 'localhost' is the computer in front of you). Here 'username' is your username (and for the rest of the guide). Note this can only be done from within Bristol, or on the Bristol VPN. If using Windows and PuTTY, there is a useful guide [here](https://github.com/rgnmudhar/MSci_Project/blob/master/Handover%20Document%20for%2060%20CP%20MSci%20Project%20A1005.docx). \n",
    "\n",
    "Next navigate to the scratch data storage directory on Anthropocene, and make a directory to hold your data.\n",
    "\n",
    "```{bash}\n",
    "anthropocene$ cd /export/anthropocene/array-01/username\n",
    "anthropocene$ mkdir Isca_data\n",
    "anthropocene$ cd Isca_data\n",
    "```\n",
    "\n",
    "Now copy the data from Blue Crystal (you may have to modify the last part of the path (`soc_mars_mk36_per_value70.85_none_mld_2.0_with_mola_topo`) to match the experiment name you want to copy):\n",
    "\n",
    "```{bash}\n",
    "anthropocene$ scp -r username@bc4login.acrc.bris.ac.uk:/mnt/storage/scratch/username/Isca_data/soc_mars_mk36_per_value70.85_none_mld_2.0_with_mola_topo .\n",
    "```"
   ]
  },
  {
   "cell_type": "markdown",
   "metadata": {},
   "source": [
    "## Setup Python environment\n",
    "\n",
    "Next we shoud setup a Python environment (which we'll call `isca`) for the analysis. This allows us to install some necessary packages which are not on Anthropocene by default. \n",
    "\n",
    "```{bash}\n",
    "anthropocene$ cd $HOME\n",
    "anthropocene$ mkdir Isca_analysis\n",
    "anthropocene$ cd Isca_analysis\n",
    "anthropocene$ conda create --name isca\n",
    "anthropocene$ source activate isca\n",
    "```\n",
    "\n",
    "Now we will install some packages which will be useful with the model analysis: [Xarray](http://xarray.pydata.org/en/stable/index.html), [Cartopy](https://scitools.org.uk/cartopy/docs/latest/), and [Dask](https://dask.org).\n",
    "\n",
    "```{bash}\n",
    "(isca) anthropocene$ conda install xarray \n",
    "(isca) anthropocene$ conda install -c conda-forge cartopy\n",
    "(isca) anthropocene$ conda install dask\n",
    "```\n",
    "\n",
    "Press 'y' whenever prompted (it may take a while to install). "
   ]
  },
  {
   "cell_type": "markdown",
   "metadata": {},
   "source": [
    "## Start Jupyter Notebook and forward to localhost\n",
    "\n",
    "We will now start a Jupyter Notebook on Anthropocene, and connect to it with our local computer. \n",
    "\n",
    "First on on Anthropocene, start the Notebook:\n",
    "\n",
    "```{bash}\n",
    "(isca) anthropocene$ jupyter notebook --no-browser --port 10001\n",
    "```\n",
    "\n",
    "You should see a url, something like `http://localhost:10001/?token=21653106a744639ce449095dcf8405cbd667aa9f24cf38f3`. Copy this.\n",
    "\n",
    "Now we will set up a connection from the local machine to Anthropocene via ssh on port 10001 (random choice):\n",
    "\n",
    "```{bash}\n",
    "localhost$ ssh -L 10001:localhost:10001 wseviour@anthropocene.ggy.bris.ac.uk\n",
    "```\n",
    "\n",
    "Now paste the url into the browser of your local machine. You should see a window with Jupyter at the top. Click 'New' then 'Python 3' in the upper right corner. This will launch a new notebook in a new tab. Click 'Untitled' at the top and give it a name. \n",
    "\n",
    "**Tips:** \n",
    "- Before launching the Jupyter Notebook on Anthropocene, you must have the isca environment activated (`source activate isca`).  \n",
    "- To keep the Notebook running in the background on Anthropocene, and make launching it easier next time, use [screen](https://www.gnu.org/software/screen/): `screen jupyter notebook --no-browser --port 10001`. Then next time you want to pick up work, you just have to run the ssh command, and navigate to the url in your browser.\n",
    "- Sometimes the chosen port (here 10001) may be taken (for instance if another user is running a notebook on that port). In this case it will randomly choose another port, and tell you as the Notebook launches. Just use this new port in your ssh connection.\n"
   ]
  },
  {
   "cell_type": "markdown",
   "metadata": {},
   "source": [
    "## Basic analysis with Xarray\n",
    "\n",
    "We will now begin by reading in a single file of Isca model output, printing information about it, and producing some basic figures.\n",
    "\n",
    "First import some necessary packages."
   ]
  },
  {
   "cell_type": "code",
   "execution_count": 39,
   "metadata": {},
   "outputs": [],
   "source": [
    "import xarray as xr\n",
    "import matplotlib.pyplot as plt"
   ]
  },
  {
   "cell_type": "markdown",
   "metadata": {},
   "source": [
    "Now read in a single file: `/export/anthropocene/array-01/kz18101/Isca_data/soc_mars_mk36_per_value70.85_none_mld_2.0_with_mola_topo/run0024/atmos_daily.nc`. The `decode_times=False` is needed so that xarray doesn't try to work out realistic dates for the simulation (it will fail if it tries to do this because this was not set up in this simulation).\n",
    "\n",
    "**Hint**: You can use Tab to autocomplete filenames. "
   ]
  },
  {
   "cell_type": "code",
   "execution_count": 40,
   "metadata": {},
   "outputs": [
    {
     "name": "stdout",
     "output_type": "stream",
     "text": [
      "<xarray.Dataset>\n",
      "Dimensions:           (lat: 64, latb: 65, lon: 128, lonb: 129, nv: 2, pfull: 25, phalf: 26, scalar_axis: 1, time: 30)\n",
      "Coordinates:\n",
      "  * lon               (lon) float64 0.0 2.812 5.625 8.438 ... 351.6 354.4 357.2\n",
      "  * lonb              (lonb) float64 -1.406 1.406 4.219 ... 353.0 355.8 358.6\n",
      "  * lat               (lat) float64 -87.86 -85.1 -82.31 ... 82.31 85.1 87.86\n",
      "  * latb              (latb) float64 -90.0 -86.58 -83.76 ... 83.76 86.58 90.0\n",
      "  * time              (time) float64 706.8 707.8 708.9 ... 734.4 735.5 736.5\n",
      "  * nv                (nv) float64 1.0 2.0\n",
      "  * phalf             (phalf) float64 0.0 0.0009334 0.002829 ... 6.081 6.093 6.1\n",
      "  * pfull             (pfull) float64 0.0003434 0.001797 ... 6.087 6.096\n",
      "  * scalar_axis       (scalar_axis) float64 0.0\n",
      "Data variables:\n",
      "    ps                (time, lat, lon) float32 ...\n",
      "    bk                (phalf) float32 ...\n",
      "    pk                (phalf) float32 ...\n",
      "    zsurf             (lat, lon) float32 ...\n",
      "    ucomp             (time, pfull, lat, lon) float32 ...\n",
      "    vcomp             (time, pfull, lat, lon) float32 ...\n",
      "    temp              (time, pfull, lat, lon) float32 ...\n",
      "    omega             (time, pfull, lat, lon) float32 ...\n",
      "    height            (time, pfull, lat, lon) float32 ...\n",
      "    sphum             (time, pfull, lat, lon) float32 ...\n",
      "    precipitation     (time, lat, lon) float32 ...\n",
      "    dt_tg_convection  (time, pfull, lat, lon) float32 ...\n",
      "    t_surf            (time, lat, lon) float32 ...\n",
      "    flux_lhe          (time, lat, lon) float32 ...\n",
      "    flux_t            (time, lat, lon) float32 ...\n",
      "    mars_solar_long   (time, scalar_axis) float32 ...\n",
      "    soc_coszen        (time, lat, lon) float32 ...\n",
      "    rrsun             (time, scalar_axis) float32 ...\n",
      "    soc_toa_sw_down   (time, lat, lon) float32 ...\n",
      "    time_since_ae     (time, scalar_axis) float32 ...\n",
      "    true_anomaly      (time, scalar_axis) float32 ...\n",
      "    dec               (time, scalar_axis) float32 ...\n",
      "    ang               (time, scalar_axis) float32 ...\n",
      "    average_T1        (time) float64 ...\n",
      "    average_T2        (time) float64 ...\n",
      "    average_DT        (time) float64 ...\n",
      "    time_bounds       (time, nv) float64 ...\n",
      "Attributes:\n",
      "    filename:   /mnt/storage/home/kz18101/scratch/Isca_work/experiment/soc_ma...\n",
      "    title:      FMS Model results\n",
      "    grid_type:  regular\n",
      "    grid_tile:  N/A\n"
     ]
    }
   ],
   "source": [
    "d = xr.open_dataset('/export/anthropocene/array-01/kz18101/Isca_data/soc_mars_mk36_per_value70.85_none_mld_2.0_with_mola_topo/run0024/atmos_daily.nc', decode_times=False)\n",
    "print(d)"
   ]
  },
  {
   "cell_type": "markdown",
   "metadata": {},
   "source": [
    "We now see a list of all the Coordinates and Variables in the file. Let's say we want to learn more about what `ucomp` is:"
   ]
  },
  {
   "cell_type": "code",
   "execution_count": 41,
   "metadata": {},
   "outputs": [
    {
     "name": "stdout",
     "output_type": "stream",
     "text": [
      "<xarray.DataArray 'ucomp' (time: 30, pfull: 25, lat: 64, lon: 128)>\n",
      "[6144000 values with dtype=float32]\n",
      "Coordinates:\n",
      "  * lon      (lon) float64 0.0 2.812 5.625 8.438 ... 348.8 351.6 354.4 357.2\n",
      "  * lat      (lat) float64 -87.86 -85.1 -82.31 -79.53 ... 79.53 82.31 85.1 87.86\n",
      "  * time     (time) float64 706.8 707.8 708.9 709.9 ... 733.4 734.4 735.5 736.5\n",
      "  * pfull    (pfull) float64 0.0003434 0.001797 0.004659 ... 6.07 6.087 6.096\n",
      "Attributes:\n",
      "    long_name:      zonal wind component\n",
      "    units:          m/sec\n",
      "    valid_range:    [-400.  400.]\n",
      "    cell_methods:   time: mean\n",
      "    time_avg_info:  average_T1,average_T2,average_DT\n"
     ]
    }
   ],
   "source": [
    "print(d.ucomp)"
   ]
  },
  {
   "cell_type": "markdown",
   "metadata": {},
   "source": [
    "This gives the more human-readable name of 'zonal wind component', and tells us it's in m/sec.\n",
    "\n",
    "You'll see that the `ucomp` has 4 dimensions (time, pressure, latitude, longitude). Unfortunately we can't visualise this all at once, so we need to do some data manipulation. We can use Xarray to form averages and subset the data. There is a more comprehensive guide [here](http://xarray.pydata.org/en/stable/indexing.html). Let's say we want to calculate a time and zonal mean ('zonal mean' = mean over longitude):"
   ]
  },
  {
   "cell_type": "code",
   "execution_count": 42,
   "metadata": {},
   "outputs": [
    {
     "name": "stdout",
     "output_type": "stream",
     "text": [
      "<xarray.DataArray 'ucomp' (pfull: 25, lat: 64)>\n",
      "array([[ 2.0378340e-02,  1.1934127e-01,  2.9514354e-01, ...,\n",
      "         8.5504761e+00,  5.7136507e+00,  2.5393507e+00],\n",
      "       [ 1.7902054e+00,  4.6151824e+00,  7.8017068e+00, ...,\n",
      "         1.4804476e+01,  9.5334892e+00,  4.0884070e+00],\n",
      "       [ 4.2631574e+00,  9.7588224e+00,  1.4877618e+01, ...,\n",
      "         2.0981752e+01,  1.4051116e+01,  6.3243394e+00],\n",
      "       ...,\n",
      "       [-2.7598264e+00, -4.2445168e+00, -1.4682969e+00, ...,\n",
      "         1.3920597e+00, -1.0635021e+00, -1.0950059e+00],\n",
      "       [-2.4502645e+00, -3.8412700e+00, -1.4626369e+00, ...,\n",
      "         1.2225662e+00, -1.0012923e+00, -1.0069591e+00],\n",
      "       [-2.0651801e+00, -3.2941992e+00, -1.3315953e+00, ...,\n",
      "         1.0540626e+00, -8.9807916e-01, -8.9029515e-01]], dtype=float32)\n",
      "Coordinates:\n",
      "  * lat      (lat) float64 -87.86 -85.1 -82.31 -79.53 ... 79.53 82.31 85.1 87.86\n",
      "  * pfull    (pfull) float64 0.0003434 0.001797 0.004659 ... 6.07 6.087 6.096\n"
     ]
    }
   ],
   "source": [
    "u_z = d.ucomp.mean(dim = ['time','lon'])\n",
    "print(u_z)"
   ]
  },
  {
   "cell_type": "markdown",
   "metadata": {},
   "source": [
    "The new array only has dimensions of latitude and pressure, since the others have been averaged over. Now let's produce a simple plot:"
   ]
  },
  {
   "cell_type": "code",
   "execution_count": 43,
   "metadata": {},
   "outputs": [
    {
     "data": {
      "text/plain": [
       "<matplotlib.contour.QuadContourSet at 0x7f4fe83e37d0>"
      ]
     },
     "execution_count": 43,
     "metadata": {},
     "output_type": "execute_result"
    },
    {
     "data": {
      "image/png": "[encoded data removed]",
      "text/plain": [
       "<Figure size 432x288 with 2 Axes>"
      ]
     },
     "metadata": {
      "needs_background": "light"
     },
     "output_type": "display_data"
    }
   ],
   "source": [
    "u_z.plot.contourf(yincrease=False)"
   ]
  },
  {
   "cell_type": "markdown",
   "metadata": {},
   "source": [
    "We set `yincrease=False` to have the highest pressure at the bottom (as in the real atmosphere). Often we want to plot a logarithmic vertical scale (since $p=p_0e^{-z/H}$). For this we'll need to use a more advanced plotting method, which I'll cover in a later guide.\n",
    "\n",
    "Now let's plot zonal-mean zonal wind at a given pressure level (say 1 hPa), as a function of time and latitude."
   ]
  },
  {
   "cell_type": "code",
   "execution_count": 44,
   "metadata": {},
   "outputs": [
    {
     "name": "stdout",
     "output_type": "stream",
     "text": [
      "<xarray.DataArray 'ucomp' (time: 30, lat: 64)>\n",
      "array([[ 4.867181 , 11.427292 , 18.391155 , ..., 13.08112  ,  8.4246235,\n",
      "         3.6550272],\n",
      "       [ 4.5038586, 10.582941 , 17.105206 , ..., 13.60862  ,  9.222387 ,\n",
      "         4.202294 ],\n",
      "       [ 4.893614 , 11.563828 , 18.49185  , ..., 15.607358 , 10.606018 ,\n",
      "         4.846463 ],\n",
      "       ...,\n",
      "       [ 4.949478 , 12.278374 , 19.788116 , ..., 16.4813   , 11.143576 ,\n",
      "         5.043433 ],\n",
      "       [ 4.3500547, 11.676207 , 19.795734 , ..., 20.068367 , 12.415895 ,\n",
      "         5.137204 ],\n",
      "       [ 3.798656 , 10.531549 , 17.905903 , ..., 25.753407 , 17.171795 ,\n",
      "         7.620375 ]], dtype=float32)\n",
      "Coordinates:\n",
      "  * lat      (lat) float64 -87.86 -85.1 -82.31 -79.53 ... 79.53 82.31 85.1 87.86\n",
      "  * time     (time) float64 706.8 707.8 708.9 709.9 ... 733.4 734.4 735.5 736.5\n",
      "    pfull    float64 0.7886\n"
     ]
    }
   ],
   "source": [
    "u_1hPa = d.ucomp.sel(pfull=1, method='nearest').mean(dim='lon')\n",
    "print(u_1hPa)"
   ]
  },
  {
   "cell_type": "markdown",
   "metadata": {},
   "source": [
    "We have used the `sel` method to get a particular pressure level. The `method = 'nearest'` part says that if there isn't a pressure level at exactly 1 hPa then use the closest (it has chosen 0.7886 hPa as you can see above). Now let's plot the output:"
   ]
  },
  {
   "cell_type": "code",
   "execution_count": 45,
   "metadata": {},
   "outputs": [
    {
     "data": {
      "text/plain": [
       "<matplotlib.contour.QuadContourSet at 0x7f520578f1d0>"
      ]
     },
     "execution_count": 45,
     "metadata": {},
     "output_type": "execute_result"
    },
    {
     "data": {
      "image/png": "[encoded data removed]",
      "text/plain": [
       "<Figure size 432x288 with 2 Axes>"
      ]
     },
     "metadata": {
      "needs_background": "light"
     },
     "output_type": "display_data"
    }
   ],
   "source": [
    "u_1hPa.plot.contourf()"
   ]
  },
  {
   "cell_type": "markdown",
   "metadata": {},
   "source": [
    "The time unit here is just days since the simulation began. This isn't particularly informative for Mars so later on we'll get to using a different unit called solar longitude."
   ]
  },
  {
   "cell_type": "markdown",
   "metadata": {},
   "source": [
    "# Reading multiple files at once\n",
    "\n"
   ]
  },
  {
   "cell_type": "markdown",
   "metadata": {},
   "source": [
    "Isca partitions output into separate files (typically one for each month of the simulation), so we have files that look like:\n",
    "- `run0001/atmos_daily.nc`\n",
    "- `run0002/atmos_daily.nc` \n",
    "etc.\n",
    "\n",
    "It would be nice to read these all in together so we can analyse time series over the whole simulation. However, this could be a lot of data (more than the memory of the machine). Luckily a package called Dask handles all this cleverly in the background for us.  "
   ]
  },
  {
   "cell_type": "code",
   "execution_count": 46,
   "metadata": {},
   "outputs": [],
   "source": [
    "import dask"
   ]
  },
  {
   "cell_type": "markdown",
   "metadata": {},
   "source": [
    "Now we will read in all the data from the simulation using `xr.open_mfdataset` (mf stands for multi-file):"
   ]
  },
  {
   "cell_type": "code",
   "execution_count": 47,
   "metadata": {},
   "outputs": [
    {
     "name": "stdout",
     "output_type": "stream",
     "text": [
      "<xarray.Dataset>\n",
      "Dimensions:           (lat: 64, latb: 65, lon: 128, lonb: 129, nv: 2, pfull: 25, phalf: 26, scalar_axis: 1, time: 1080)\n",
      "Coordinates:\n",
      "  * lonb              (lonb) float64 -1.406 1.406 4.219 ... 353.0 355.8 358.6\n",
      "  * nv                (nv) float64 1.0 2.0\n",
      "  * lon               (lon) float64 0.0 2.812 5.625 8.438 ... 351.6 354.4 357.2\n",
      "  * pfull             (pfull) float64 0.0003434 0.001797 ... 6.087 6.096\n",
      "  * lat               (lat) float64 -87.86 -85.1 -82.31 ... 82.31 85.1 87.86\n",
      "  * latb              (latb) float64 -90.0 -86.58 -83.76 ... 83.76 86.58 90.0\n",
      "  * phalf             (phalf) float64 0.0 0.0009334 0.002829 ... 6.081 6.093 6.1\n",
      "  * scalar_axis       (scalar_axis) float64 0.0\n",
      "  * time              (time) float64 0.5118 1.535 2.559 ... 1.104e+03 1.105e+03\n",
      "Data variables:\n",
      "    ps                (time, lat, lon) float32 dask.array<chunksize=(30, 64, 128), meta=np.ndarray>\n",
      "    bk                (time, phalf) float32 dask.array<chunksize=(30, 26), meta=np.ndarray>\n",
      "    pk                (time, phalf) float32 dask.array<chunksize=(30, 26), meta=np.ndarray>\n",
      "    zsurf             (time, lat, lon) float32 dask.array<chunksize=(30, 64, 128), meta=np.ndarray>\n",
      "    ucomp             (time, pfull, lat, lon) float32 dask.array<chunksize=(30, 25, 64, 128), meta=np.ndarray>\n",
      "    vcomp             (time, pfull, lat, lon) float32 dask.array<chunksize=(30, 25, 64, 128), meta=np.ndarray>\n",
      "    temp              (time, pfull, lat, lon) float32 dask.array<chunksize=(30, 25, 64, 128), meta=np.ndarray>\n",
      "    omega             (time, pfull, lat, lon) float32 dask.array<chunksize=(30, 25, 64, 128), meta=np.ndarray>\n",
      "    height            (time, pfull, lat, lon) float32 dask.array<chunksize=(30, 25, 64, 128), meta=np.ndarray>\n",
      "    sphum             (time, pfull, lat, lon) float32 dask.array<chunksize=(30, 25, 64, 128), meta=np.ndarray>\n",
      "    precipitation     (time, lat, lon) float32 dask.array<chunksize=(30, 64, 128), meta=np.ndarray>\n",
      "    dt_tg_convection  (time, pfull, lat, lon) float32 dask.array<chunksize=(30, 25, 64, 128), meta=np.ndarray>\n",
      "    t_surf            (time, lat, lon) float32 dask.array<chunksize=(30, 64, 128), meta=np.ndarray>\n",
      "    flux_lhe          (time, lat, lon) float32 dask.array<chunksize=(30, 64, 128), meta=np.ndarray>\n",
      "    flux_t            (time, lat, lon) float32 dask.array<chunksize=(30, 64, 128), meta=np.ndarray>\n",
      "    mars_solar_long   (time, scalar_axis) float32 dask.array<chunksize=(30, 1), meta=np.ndarray>\n",
      "    soc_coszen        (time, lat, lon) float32 dask.array<chunksize=(30, 64, 128), meta=np.ndarray>\n",
      "    rrsun             (time, scalar_axis) float32 dask.array<chunksize=(30, 1), meta=np.ndarray>\n",
      "    soc_toa_sw_down   (time, lat, lon) float32 dask.array<chunksize=(30, 64, 128), meta=np.ndarray>\n",
      "    time_since_ae     (time, scalar_axis) float32 dask.array<chunksize=(30, 1), meta=np.ndarray>\n",
      "    true_anomaly      (time, scalar_axis) float32 dask.array<chunksize=(30, 1), meta=np.ndarray>\n",
      "    dec               (time, scalar_axis) float32 dask.array<chunksize=(30, 1), meta=np.ndarray>\n",
      "    ang               (time, scalar_axis) float32 dask.array<chunksize=(30, 1), meta=np.ndarray>\n",
      "    average_T1        (time) float64 dask.array<chunksize=(30,), meta=np.ndarray>\n",
      "    average_T2        (time) float64 dask.array<chunksize=(30,), meta=np.ndarray>\n",
      "    average_DT        (time) float64 dask.array<chunksize=(30,), meta=np.ndarray>\n",
      "    time_bounds       (time, nv) float64 dask.array<chunksize=(30, 2), meta=np.ndarray>\n",
      "Attributes:\n",
      "    filename:   /mnt/storage/home/kz18101/scratch/Isca_work/experiment/soc_ma...\n",
      "    title:      FMS Model results\n",
      "    grid_type:  regular\n",
      "    grid_tile:  N/A\n"
     ]
    }
   ],
   "source": [
    "da = xr.open_mfdataset('/export/anthropocene/array-01/kz18101/Isca_data/soc_mars_mk36_per_value70.85_none_mld_2.0_with_mola_topo/run*/atmos_daily.nc', \n",
    "                       decode_times=False, concat_dim='time',combine='nested')\n",
    "print(da)"
   ]
  },
  {
   "cell_type": "markdown",
   "metadata": {},
   "source": [
    "We now have 1080 time points (compared to 30 for the single file earlier). Let's plot the same latitude-time figure as before, but now with the extended time range:"
   ]
  },
  {
   "cell_type": "code",
   "execution_count": 48,
   "metadata": {},
   "outputs": [
    {
     "data": {
      "text/plain": [
       "<matplotlib.contour.QuadContourSet at 0x7f5205a2d090>"
      ]
     },
     "execution_count": 48,
     "metadata": {},
     "output_type": "execute_result"
    },
    {
     "data": {
      "image/png": "[encoded data removed]",
      "text/plain": [
       "<Figure size 432x288 with 2 Axes>"
      ]
     },
     "metadata": {
      "needs_background": "light"
     },
     "output_type": "display_data"
    }
   ],
   "source": [
    "da.ucomp.sel(pfull=1, method='nearest').mean(dim='lon').plot.contourf()"
   ]
  },
  {
   "cell_type": "markdown",
   "metadata": {},
   "source": [
    "We see a seasonal cycle of stronger Northern Hemisphere jets, and weaker Southern Hemisphere jets in their respective winters. "
   ]
  },
  {
   "cell_type": "markdown",
   "metadata": {},
   "source": [
    "# Taking a Mars seasonal average\n",
    "\n",
    "**This part is only relevant for Mars-based simulations**\n",
    "\n",
    "The default time coordinate is in days, which perhaps isn't the most appropriate for Mars, and is tricky to divide into Martian seasons. A useful coordinate is 'solar longitude', $L_S$ - this tells the time of year [in terms of an angle around the sun](http://www-mars.lmd.jussieu.fr/mars/time/solar_longitude.html). NH summer solstice is at 90$^{\\circ}$ and NH winter solstice is at 270$^\\circ$. Hence we can construct seasons as follows:\n",
    "\n",
    "- 45 - 135: NH Summer\n",
    "- 135 - 225: NH Autumn\n",
    "- 225 - 315: NH Winter\n",
    "- 315 - 45: NH Spring\n",
    "\n",
    "The model outputs solar longiude as a variable:"
   ]
  },
  {
   "cell_type": "code",
   "execution_count": 51,
   "metadata": {},
   "outputs": [
    {
     "name": "stdout",
     "output_type": "stream",
     "text": [
      "<xarray.DataArray 'mars_solar_long' (time: 1080, scalar_axis: 1)>\n",
      "dask.array<concatenate, shape=(1080, 1), dtype=float32, chunksize=(30, 1), chunktype=numpy.ndarray>\n",
      "Coordinates:\n",
      "  * scalar_axis  (scalar_axis) float64 0.0\n",
      "  * time         (time) float64 0.5118 1.535 2.559 ... 1.104e+03 1.105e+03\n",
      "Attributes:\n",
      "    long_name:      Martian solar longitude\n",
      "    units:          deg\n",
      "    cell_methods:   time: mean\n",
      "    time_avg_info:  average_T1,average_T2,average_DT\n"
     ]
    },
    {
     "data": {
      "text/plain": [
       "[<matplotlib.lines.Line2D at 0x7f51f0323590>]"
      ]
     },
     "execution_count": 51,
     "metadata": {},
     "output_type": "execute_result"
    },
    {
     "data": {
      "image/png": "[encoded data removed]",
      "text/plain": [
       "<Figure size 432x288 with 1 Axes>"
      ]
     },
     "metadata": {
      "needs_background": "light"
     },
     "output_type": "display_data"
    }
   ],
   "source": [
    "print(da.mars_solar_long)\n",
    "da.mars_solar_long.plot()"
   ]
  },
  {
   "cell_type": "markdown",
   "metadata": {},
   "source": [
    "You'll notice those lines aren't exactly straight (i.e. a day doesn't equal a set increment in solar longitude). This is because Mars's orbit is fairly elliptical. [Timekeeping on Mars](https://en.wikipedia.org/wiki/Timekeeping_on_Mars) is a bit tricky!\n",
    "\n",
    "We can also see the simulation we have is a little under 2 Martian \n",
    "\n",
    "In order to average a variable over a range of solar longitudes, we need to use the `where` command to select the relevant range. Let's take an average over the NH winter season."
   ]
  },
  {
   "cell_type": "code",
   "execution_count": 86,
   "metadata": {},
   "outputs": [
    {
     "data": {
      "text/plain": [
       "[<matplotlib.lines.Line2D at 0x7f4f8c6ce250>]"
      ]
     },
     "execution_count": 86,
     "metadata": {},
     "output_type": "execute_result"
    },
    {
     "data": {
      "image/png": "[encoded data removed]",
      "text/plain": [
       "<Figure size 432x288 with 1 Axes>"
      ]
     },
     "metadata": {
      "needs_background": "light"
     },
     "output_type": "display_data"
    }
   ],
   "source": [
    "da_nh_winter = da.where((da.mars_solar_long < 315) & (da.mars_solar_long > 225))\n",
    "da_nh_winter.mars_solar_long.plot()"
   ]
  },
  {
   "cell_type": "markdown",
   "metadata": {},
   "source": [
    "We have two years' worth of NH winter data, but the rest has now been masked out (compare two plots of solar longitude). Now we can take a time and zonal mean of the zonal wind:"
   ]
  },
  {
   "cell_type": "code",
   "execution_count": 83,
   "metadata": {},
   "outputs": [
    {
     "name": "stdout",
     "output_type": "stream",
     "text": [
      "<xarray.DataArray 'ucomp' (pfull: 25, lat: 64, scalar_axis: 1)>\n",
      "dask.array<mean_agg-aggregate, shape=(25, 64, 1), dtype=float32, chunksize=(25, 64, 1), chunktype=numpy.ndarray>\n",
      "Coordinates:\n",
      "  * pfull        (pfull) float64 0.0003434 0.001797 0.004659 ... 6.087 6.096\n",
      "  * lat          (lat) float64 -87.86 -85.1 -82.31 -79.53 ... 82.31 85.1 87.86\n",
      "  * scalar_axis  (scalar_axis) float64 0.0\n"
     ]
    }
   ],
   "source": [
    "u_z_nh_winter = da_nh_winter.ucomp.mean(dim = ['time','lon'])\n",
    "print(u_z_nh_winter)"
   ]
  },
  {
   "cell_type": "markdown",
   "metadata": {},
   "source": [
    "You'll see a dummy coordinate 'scalar_axis' has been added. I'm not quite sure why this is(!) but we need to remove it before plotting:"
   ]
  },
  {
   "cell_type": "code",
   "execution_count": 85,
   "metadata": {},
   "outputs": [
    {
     "data": {
      "text/plain": [
       "<matplotlib.contour.QuadContourSet at 0x7f4f8c5ff290>"
      ]
     },
     "execution_count": 85,
     "metadata": {},
     "output_type": "execute_result"
    },
    {
     "data": {
      "image/png": "[encoded data removed]",
      "text/plain": [
       "<Figure size 432x288 with 2 Axes>"
      ]
     },
     "metadata": {
      "needs_background": "light"
     },
     "output_type": "display_data"
    }
   ],
   "source": [
    "u_z_nh_winter.isel(scalar_axis=0).plot.contourf(yincrease=False)"
   ]
  },
  {
   "cell_type": "markdown",
   "metadata": {},
   "source": [
    "Now we see a jet only in the NH, as expected for NH winter (compare with all times averaged plot above)."
   ]
  },
  {
   "cell_type": "code",
   "execution_count": null,
   "metadata": {},
   "outputs": [],
   "source": []
  }
 ],
 "metadata": {
  "kernelspec": {
   "display_name": "Python 3",
   "language": "python",
   "name": "python3"
  },
  "language_info": {
   "codemirror_mode": {
    "name": "ipython",
    "version": 3
   },
   "file_extension": ".py",
   "mimetype": "text/x-python",
   "name": "python",
   "nbconvert_exporter": "python",
   "pygments_lexer": "ipython3",
   "version": "3.7.4"
  }
 },
 "nbformat": 4,
 "nbformat_minor": 2
}
